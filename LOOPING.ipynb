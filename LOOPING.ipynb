{
 "cells": [
  {
   "cell_type": "code",
   "execution_count": 4,
   "id": "ab373f7a",
   "metadata": {
    "scrolled": false
   },
   "outputs": [
    {
     "name": "stdout",
     "output_type": "stream",
     "text": [
      "1 2 3 4 5 6 7 8 9 10 "
     ]
    }
   ],
   "source": [
    "#mencetak angka 1-10\n",
    "\n",
    "for i in range(1,11):\n",
    "    print (i, end=\" \")"
   ]
  },
  {
   "cell_type": "code",
   "execution_count": 10,
   "id": "237af661",
   "metadata": {},
   "outputs": [
    {
     "name": "stdout",
     "output_type": "stream",
     "text": [
      "10 20 30 40 50 60 70 80 90 100 "
     ]
    }
   ],
   "source": [
    "#mencetak  angka 10 20 30 ... 100\n",
    "\n",
    "for i in range (10,101,10):\n",
    "    print (i, end=\" \")\n",
    "    "
   ]
  },
  {
   "cell_type": "code",
   "execution_count": 11,
   "id": "5cb01435",
   "metadata": {},
   "outputs": [
    {
     "name": "stdout",
     "output_type": "stream",
     "text": [
      "10 20 30 40 50 60 70 80 90 100 "
     ]
    }
   ],
   "source": [
    "#mencetak  angka 10 20 30 ... 100\n",
    "\n",
    "for i in range (1,11):\n",
    "    print (i * 10, end=\" \")"
   ]
  },
  {
   "cell_type": "code",
   "execution_count": 15,
   "id": "b25baf3a",
   "metadata": {},
   "outputs": [
    {
     "name": "stdout",
     "output_type": "stream",
     "text": [
      "10 9 8 7 6 5 4 3 2 1 "
     ]
    }
   ],
   "source": [
    "#mencetak angka 10 9 8 ... 1\n",
    "\n",
    "for i in range(1,11):\n",
    "    print (11 - i, end=\" \")"
   ]
  },
  {
   "cell_type": "code",
   "execution_count": 18,
   "id": "60114644",
   "metadata": {},
   "outputs": [
    {
     "name": "stdout",
     "output_type": "stream",
     "text": [
      "10 9 8 7 6 5 4 3 2 1 "
     ]
    }
   ],
   "source": [
    "#mencetak angka 10 9 8 ... 1\n",
    "\n",
    "for i in range(10,0,-1):\n",
    "    print (i, end=\" \")"
   ]
  },
  {
   "cell_type": "code",
   "execution_count": 36,
   "id": "af1339e9",
   "metadata": {},
   "outputs": [
    {
     "name": "stdout",
     "output_type": "stream",
     "text": [
      "1 -2 3 -4 5 -6 7 -8 9 -10 "
     ]
    }
   ],
   "source": [
    "#mencetak angka 1 -2 3 -4 5... 10\n",
    "sign = -1 \n",
    "for i in range (1,11):\n",
    "    sign = sign * -1\n",
    "    print (sign * i , end=\" \")"
   ]
  },
  {
   "cell_type": "code",
   "execution_count": 51,
   "id": "5d43ea0f",
   "metadata": {},
   "outputs": [
    {
     "name": "stdout",
     "output_type": "stream",
     "text": [
      "Masukkan nilai : 9\n",
      "9! = 362880\n",
      "9 * 8 * 7 * 6 * 5 * 4 * 3 * 2 * 1 = 362880\n"
     ]
    }
   ],
   "source": [
    "#cari bilangan faktorial\n",
    "# input = 3 , output = 3 * 2 * 1 = 6\n",
    "# input = 4 , output = 4 * 3 * 2 * 1 = 24\n",
    "\n",
    "bil = int(input('Masukkan nilai : '))\n",
    "nilai = 1\n",
    "label = \"\"\n",
    "for i in range(1, bil + 1):\n",
    "    nilai = nilai * i\n",
    "    if i < bil:\n",
    "        label = label + str((bil + 1) - i) + \" * \"\n",
    "    else: \n",
    "        label = label + str((bil + 1) - i)\n",
    "        \n",
    "print(f'{bil}! = {nilai}')\n",
    "print(f\"{label} = {nilai}\")"
   ]
  },
  {
   "cell_type": "code",
   "execution_count": 57,
   "id": "b27f62e3",
   "metadata": {},
   "outputs": [
    {
     "name": "stdout",
     "output_type": "stream",
     "text": [
      "isikan bilangan: 2\n",
      "isikan pangkat: 4\n",
      "2^4 = 16\n"
     ]
    }
   ],
   "source": [
    "#mencari perpangkatan\n",
    "\n",
    "bilangan = int(input('isikan bilangan: '))\n",
    "pangkat = int(input('isikan pangkat: '))\n",
    "\n",
    "hasil = bilangan\n",
    "for i in range(pangkat - 1):\n",
    "    hasil *= bilangan\n",
    "print(f\"{bilangan}^{pangkat} = {hasil}\")"
   ]
  },
  {
   "cell_type": "code",
   "execution_count": 74,
   "id": "9a6965e4",
   "metadata": {},
   "outputs": [
    {
     "name": "stdout",
     "output_type": "stream",
     "text": [
      "isikan bilangan: 9\n",
      "9 adalah bilangan prima\n"
     ]
    }
   ],
   "source": [
    "#mengecek apakah bilangan tersebut prima atau bukan\n",
    "#Bil.prima adalah bilangan yang \n",
    "#bisa habis di bagi 1 dan bilangan itu sendiri\n",
    "bil = int(input('isikan bilangan: '))\n",
    "jumlah = 0\n",
    "for i in range (1, bil +1):\n",
    "    sisa = bil % i\n",
    "    if sisa == 0:\n",
    "        jumlah = jumlah + 1\n",
    "\n",
    "if jumlah == 2:\n",
    "    print(f\"{bil} bukan bilangan PRIMA\")\n",
    "else:\n",
    "    print(f\"{bil} adalah bilangan PRIMA\")"
   ]
  },
  {
   "cell_type": "code",
   "execution_count": 78,
   "id": "0ce2d7a0",
   "metadata": {},
   "outputs": [
    {
     "name": "stdout",
     "output_type": "stream",
     "text": [
      "isikan bilangan: 4\n",
      "4 adalah bukan bilangan prima\n"
     ]
    }
   ],
   "source": [
    "#mengecek apakah bilangan tersebut prima atau bukan\n",
    "#Bil.prima adalah bilangan yang \n",
    "#bisa habis di bagi 1 dan bilangan itu sendiri => 2 faktor\n",
    "bil = int(input('isikan bilangan: '))\n",
    "keterangan =\"Bilangan prima\"\n",
    "for i in range (2, bil):\n",
    "    sisa = bil % i\n",
    "    if sisa == 0:\n",
    "        keterangan = \"bukan bilangan prima\"\n",
    "        break\n",
    "\n",
    "print(f\"{bil} adalah {keterangan}\")"
   ]
  },
  {
   "cell_type": "code",
   "execution_count": 76,
   "id": "ce233561",
   "metadata": {},
   "outputs": [
    {
     "name": "stdout",
     "output_type": "stream",
     "text": [
      "1 2 3 4 5 \n",
      "1 2 3 4 5 6 7 8 9 \n"
     ]
    }
   ],
   "source": [
    "#Break dan Continue\n",
    "\n",
    "for i in range (1,100):\n",
    "    print (i, end =\" \")\n",
    "    if i ==5:\n",
    "        break\n",
    "print()\n",
    "\n",
    "for j in range (1,10):\n",
    "    print(j, end =\" \")\n",
    "    if j ==5:\n",
    "        continue\n",
    "print()"
   ]
  },
  {
   "cell_type": "code",
   "execution_count": 89,
   "id": "053b496b",
   "metadata": {},
   "outputs": [
    {
     "name": "stdout",
     "output_type": "stream",
     "text": [
      "masukan kalimat: bakso tikus enak sekali\n",
      "jumlah huruf a: 3|jumlah huruf i: 2 |jumalah huruf u: 1| jumlah huruf e: 2|jumlah huruf o: 1\n",
      "jumlah huruf vokal  keseluruhan:9\n"
     ]
    }
   ],
   "source": [
    "#Looping untuk string \n",
    "kalimat = input(\"masukan kalimat: \")\n",
    "vokal_a = 0\n",
    "vokal_i = 0\n",
    "vokal_u = 0\n",
    "vokal_e = 0\n",
    "vokal_o = 0\n",
    "\n",
    "\n",
    "for i in kalimat:\n",
    "    if i =='a':\n",
    "        vokal_a += 1\n",
    "    elif i == 'i':\n",
    "        vokal_i += 1\n",
    "    elif i == 'u':\n",
    "        vokal_u += 1    \n",
    "    elif i == 'e':\n",
    "        vokal_e += 1\n",
    "    elif i == 'o':\n",
    "        vokal_o += 1\n",
    "   \n",
    "        \n",
    "print(f\"jumlah huruf a: {vokal_a}|jumlah huruf i: {vokal_i} |jumalah huruf u: {vokal_u}| jumlah huruf e: {vokal_e}|jumlah huruf o: {vokal_o}\")\n",
    "print(f\"jumlah huruf vokal  keseluruhan:{vokal_a + vokal_i + vokal_u + vokal_e + vokal_o}\")"
   ]
  },
  {
   "cell_type": "code",
   "execution_count": 110,
   "id": "0d32cba6",
   "metadata": {},
   "outputs": [
    {
     "ename": "SyntaxError",
     "evalue": "invalid syntax (821210447.py, line 18)",
     "output_type": "error",
     "traceback": [
      "\u001b[1;36m  Input \u001b[1;32mIn [110]\u001b[1;36m\u001b[0m\n\u001b[1;33m    while(jawab =\"Y\" and jawab =\"T\"):\u001b[0m\n\u001b[1;37m                ^\u001b[0m\n\u001b[1;31mSyntaxError\u001b[0m\u001b[1;31m:\u001b[0m invalid syntax\n"
     ]
    }
   ],
   "source": [
    "#kalimat palindrome atau bukan\n",
    "#palindrome adalah kalimat yang di baca dari kiri ke kanan == kanan ke kiri\n",
    "#katak => palindrome\n",
    "#kasur rusak => palindrome\n",
    "ulang = \"Y\"\n",
    "while(ulang==\"Y\"):\n",
    "    kalimat = input ('isikan kalimat: ')\n",
    "    panjang = len(kalimat)\n",
    "    keterangan = \"PALINDROME\"\n",
    "    for i in range(0,panjang):\n",
    "        kika = kalimat[i].lower()\n",
    "        kaki = kalimat[panjang - i-1].lower()\n",
    "        if kika != kaki:\n",
    "            keterangan = \"BUKAN PALINDROME\"\n",
    "            break\n",
    "    print(f\"{keterangan}\")\n",
    "    jawab=\"\"\n",
    "    while(jawab !=\"Y\" and jawab !=\"T\"):\n",
    "        ulang = input(\"apakah mau mengulang program (Y/T)?: \")\n",
    "    ulang = jawab\n"
   ]
  },
  {
   "cell_type": "code",
   "execution_count": 113,
   "id": "a3a2af75",
   "metadata": {},
   "outputs": [
    {
     "name": "stdout",
     "output_type": "stream",
     "text": [
      "i:1 dan j:1\n",
      "i:1 dan j:2\n",
      "i:1 dan j:3\n",
      "i:1 dan j:4\n",
      "i:2 dan j:1\n",
      "i:2 dan j:2\n",
      "i:2 dan j:3\n",
      "i:2 dan j:4\n",
      "i:3 dan j:1\n",
      "i:3 dan j:2\n",
      "i:3 dan j:3\n",
      "i:3 dan j:4\n",
      "i:4 dan j:1\n",
      "i:4 dan j:2\n",
      "i:4 dan j:3\n",
      "i:4 dan j:4\n"
     ]
    }
   ],
   "source": [
    "#NESTED FOR\n",
    "\n",
    "for i in range (1,5):\n",
    "    for j in range(1,5):\n",
    "        print(f\"i:{i} dan j:{j}\")"
   ]
  },
  {
   "cell_type": "code",
   "execution_count": null,
   "id": "395b98c9",
   "metadata": {},
   "outputs": [],
   "source": []
  }
 ],
 "metadata": {
  "kernelspec": {
   "display_name": "Python 3 (ipykernel)",
   "language": "python",
   "name": "python3"
  },
  "language_info": {
   "codemirror_mode": {
    "name": "ipython",
    "version": 3
   },
   "file_extension": ".py",
   "mimetype": "text/x-python",
   "name": "python",
   "nbconvert_exporter": "python",
   "pygments_lexer": "ipython3",
   "version": "3.9.12"
  }
 },
 "nbformat": 4,
 "nbformat_minor": 5
}
